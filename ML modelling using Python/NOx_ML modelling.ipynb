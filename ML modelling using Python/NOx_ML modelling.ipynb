{
 "cells": [
  {
   "cell_type": "markdown",
   "metadata": {},
   "source": [
    "# NOx"
   ]
  },
  {
   "cell_type": "code",
   "execution_count": 25,
   "metadata": {},
   "outputs": [
    {
     "name": "stderr",
     "output_type": "stream",
     "text": [
      "C:\\Users\\shubh\\Anaconda3\\lib\\site-packages\\sklearn\\utils\\validation.py:578: DataConversionWarning: A column-vector y was passed when a 1d array was expected. Please change the shape of y to (n_samples, ), for example using ravel().\n",
      "  y = column_or_1d(y, warn=True)\n"
     ]
    },
    {
     "data": {
      "text/plain": [
       "array([ 0.02833152,  0.04108967,  0.35133853,  0.04240417,  0.13823712,\n",
       "        0.27845154,  0.06268924,  0.17067919, -0.01815364,  0.31147725,\n",
       "        0.0772861 ,  0.12549997, -0.0158305 , -0.04123724, -0.01774735,\n",
       "        0.29795148,  0.01687157,  0.26389779, -0.01675545, -0.0130325 ,\n",
       "        0.07458703,  0.01158033,  0.0830519 ,  0.09339612,  0.28499804,\n",
       "        0.23541512, -0.07748984, -0.00525177,  0.04647461, -0.02085661,\n",
       "        0.03819913,  0.26820384, -0.00290627,  0.10004111,  0.31847055,\n",
       "        0.2636463 ,  0.07943178,  0.10954924,  0.23743446,  0.03960211,\n",
       "        0.23438778, -0.08751992, -0.02278401,  0.08311019,  0.33352499,\n",
       "        0.08259653,  0.06395422,  0.02851097, -0.01008917,  0.09050893,\n",
       "        0.25647174,  0.02299035,  0.08264318,  0.08592336,  0.06715441,\n",
       "        0.08857767,  0.10254557,  0.08180863,  0.3093787 ,  0.08878183,\n",
       "        0.30132941,  0.00158386,  0.04136108, -0.02853633, -0.02049494,\n",
       "       -0.00941485,  0.04261819,  0.32364959,  0.33846388,  0.34021407,\n",
       "        0.10233154,  0.29917284,  0.10224208,  0.05376044,  0.3537767 ,\n",
       "        0.2546904 ,  0.05632878,  0.29758105,  0.34654929,  0.28193564,\n",
       "        0.04720919,  0.167669  ,  0.1217325 ,  0.3299799 ,  0.31942455,\n",
       "        0.11168426,  0.280393  ,  0.25034692,  0.08027388,  0.01158033,\n",
       "        0.04994855,  0.01324454,  0.14543286, -0.00736466,  0.26240671,\n",
       "       -0.07431924,  0.3324242 ,  0.11728429,  0.313191  , -0.02939313,\n",
       "        0.29375   ,  0.29071187,  0.139671  ,  0.01442707,  0.03398488,\n",
       "        0.06275939,  0.36973885,  0.07452597,  0.07433691,  0.32085557,\n",
       "        0.06143627,  0.3121972 ,  0.34539994,  0.03058633,  0.34449951,\n",
       "        0.06833939,  0.01792597,  0.07972988,  0.35318958,  0.06450776,\n",
       "        0.08223132,  0.15829969,  0.31121223,  0.3130837 ,  0.03886916,\n",
       "        0.06846073,  0.01189716,  0.05652073,  0.01967515, -0.01356094,\n",
       "        0.09016451,  0.11134981,  0.37457105,  0.10798495, -0.00871095,\n",
       "        0.39446545, -0.08470193, -0.05932014,  0.08767113,  0.18008948,\n",
       "        0.01107494,  0.04574823,  0.33805703,  0.09332457,  0.01652017,\n",
       "        0.05147236,  0.05194858,  0.08208286,  0.0678076 ,  0.07105657,\n",
       "        0.11492482,  0.07263075, -0.01011225,  0.29138264,  0.09050893,\n",
       "        0.23608166,  0.39134378, -0.01822161, -0.03429155,  0.25848133,\n",
       "        0.10919184,  0.00597019,  0.15342819,  0.37037073,  0.08496972,\n",
       "        0.08095055,  0.32767434,  0.06902588,  0.35474464,  0.08993399,\n",
       "        0.06905909,  0.30288421,  0.27213963, -0.02792069,  0.33137239,\n",
       "        0.02507048,  0.08442461,  0.03655159,  0.31329205,  0.13471348,\n",
       "        0.31020223,  0.04568773,  0.19519405,  0.00567132,  0.10054719,\n",
       "        0.14560983])"
      ]
     },
     "execution_count": 25,
     "metadata": {},
     "output_type": "execute_result"
    }
   ],
   "source": [
    "#Support Vecctor Regression\n",
    "#1 Importing the libraries\n",
    "import numpy as np\n",
    "import matplotlib.pyplot as plt\n",
    "import pandas as pd\n",
    "\n",
    "#2 Importing the dataset\n",
    "# dataset = pd.read_csv(r'C:\\Users\\shubh\\Desktop\\IITM\\Courses\\Sem 2\\ML in civil eng\\term paper\\CE6051- vehicular emission data set - Sheet12.csv')\n",
    "dataset = pd.read_csv(r'C:\\Users\\shubh\\Desktop\\IITM\\Courses\\Sem 2\\ML in civil eng\\term paper\\vehicularemission_modified3.csv')\n",
    "X = dataset.iloc[1:,0:5].values.astype(float)\n",
    "y = dataset.iloc[1:,7:8].values.astype(float)\n",
    "\n",
    "#3 selecting training dataset\n",
    "from sklearn.model_selection import train_test_split\n",
    "X_train, X_test, y_train, y_test = train_test_split(X, y, test_size = 0.2, random_state=0)\n",
    "\n",
    "#4 Fitting the Support Vector Regression Model to the dataset\n",
    "# Create your support vector regressor here\n",
    "from sklearn.svm import SVR\n",
    "# most important SVR parameter is Kernel type. It can be linear,polynomial or gaussian.\n",
    "#SVR. We have a non-linear condition so we can select polynomial or gaussian but here\n",
    "#we select RBF(a gaussian type) while here I substituted it with 'linear' kernel. \n",
    "regressor = SVR(kernel='linear')\n",
    "regressor.fit(X_train, y_train, sample_weight = None)\n",
    "\n",
    "#5 finding results\n",
    "y_pred = regressor.predict(X_test)\n",
    "y_pred\n",
    "\n",
    "\n",
    "\n",
    "\n"
   ]
  },
  {
   "cell_type": "code",
   "execution_count": 27,
   "metadata": {},
   "outputs": [
    {
     "data": {
      "image/png": "[encoded data removed]",
      "text/plain": [
       "<Figure size 432x288 with 1 Axes>"
      ]
     },
     "metadata": {
      "needs_background": "light"
     },
     "output_type": "display_data"
    }
   ],
   "source": [
    "#6 obtaining plots \n",
    "plt.scatter(y_test, y_pred, color = 'black')\n",
    "plt.title('y_pred vs y_test')\n",
    "plt.xlabel('y_test')\n",
    "plt.ylabel('y_pred')\n",
    "plt.show()\n"
   ]
  },
  {
   "cell_type": "code",
   "execution_count": 28,
   "metadata": {},
   "outputs": [
    {
     "data": {
      "text/plain": [
       "array([[ 0.0464698 ,  0.00897534,  0.01151314, -0.12740902, -0.01280685]])"
      ]
     },
     "execution_count": 28,
     "metadata": {},
     "output_type": "execute_result"
    }
   ],
   "source": [
    "#weight vector\n",
    "w = regressor.coef_\n",
    "w"
   ]
  },
  {
   "cell_type": "code",
   "execution_count": 29,
   "metadata": {},
   "outputs": [
    {
     "data": {
      "text/plain": [
       "0.6893555491653907"
      ]
     },
     "execution_count": 29,
     "metadata": {},
     "output_type": "execute_result"
    }
   ],
   "source": [
    "regressor.score(X_test, y_test, sample_weight = None)"
   ]
  },
  {
   "cell_type": "code",
   "execution_count": null,
   "metadata": {},
   "outputs": [],
   "source": []
  },
  {
   "cell_type": "code",
   "execution_count": null,
   "metadata": {},
   "outputs": [],
   "source": []
  },
  {
   "cell_type": "code",
   "execution_count": 30,
   "metadata": {},
   "outputs": [
    {
     "data": {
      "text/plain": [
       "array([[ 1.10022216e-02],\n",
       "       [ 2.18070622e-02],\n",
       "       [ 3.46551601e-01],\n",
       "       [ 4.61599650e-02],\n",
       "       [ 1.10382027e-01],\n",
       "       [ 2.81758841e-01],\n",
       "       [ 3.65543473e-02],\n",
       "       [ 1.91672290e-01],\n",
       "       [-2.72359675e-02],\n",
       "       [ 3.01810297e-01],\n",
       "       [ 5.57812083e-02],\n",
       "       [ 9.33546656e-02],\n",
       "       [-2.27777982e-02],\n",
       "       [-4.26475163e-02],\n",
       "       [-2.69736492e-02],\n",
       "       [ 3.06478356e-01],\n",
       "       [ 1.58657641e-03],\n",
       "       [ 2.71735547e-01],\n",
       "       [-2.15495195e-02],\n",
       "       [-1.97261904e-02],\n",
       "       [ 6.49440786e-02],\n",
       "       [-3.15176986e-03],\n",
       "       [ 7.34968492e-02],\n",
       "       [ 6.60195905e-02],\n",
       "       [ 2.95981887e-01],\n",
       "       [ 2.43069239e-01],\n",
       "       [-7.39600629e-02],\n",
       "       [ 6.08040649e-03],\n",
       "       [ 2.70012762e-02],\n",
       "       [-2.72438183e-02],\n",
       "       [ 2.21363525e-02],\n",
       "       [ 2.72691050e-01],\n",
       "       [-1.72473566e-02],\n",
       "       [ 7.20363938e-02],\n",
       "       [ 3.13406065e-01],\n",
       "       [ 2.65841862e-01],\n",
       "       [ 6.42653034e-02],\n",
       "       [ 8.36407702e-02],\n",
       "       [ 2.49774407e-01],\n",
       "       [ 3.53142827e-02],\n",
       "       [ 2.41854923e-01],\n",
       "       [-8.04185931e-02],\n",
       "       [-3.06211131e-02],\n",
       "       [ 6.19565730e-02],\n",
       "       [ 3.28582865e-01],\n",
       "       [ 6.13494148e-02],\n",
       "       [ 3.71566574e-02],\n",
       "       [ 1.86139894e-02],\n",
       "       [-1.82038220e-02],\n",
       "       [ 6.35874036e-02],\n",
       "       [ 2.69406192e-01],\n",
       "       [ 6.21044475e-03],\n",
       "       [ 6.12428380e-02],\n",
       "       [ 5.81630524e-02],\n",
       "       [ 4.08890999e-02],\n",
       "       [ 6.48857381e-02],\n",
       "       [ 7.78263687e-02],\n",
       "       [ 6.45486559e-02],\n",
       "       [ 3.08726641e-01],\n",
       "       [ 6.54023300e-02],\n",
       "       [ 2.99188824e-01],\n",
       "       [-8.36720147e-03],\n",
       "       [ 3.39141392e-02],\n",
       "       [-3.53838656e-02],\n",
       "       [-1.05994562e-02],\n",
       "       [ 2.78301480e-04],\n",
       "       [ 2.36151792e-02],\n",
       "       [ 3.18520680e-01],\n",
       "       [ 3.38747317e-01],\n",
       "       [ 3.26866251e-01],\n",
       "       [ 7.83122131e-02],\n",
       "       [ 3.02094151e-01],\n",
       "       [ 8.14089954e-02],\n",
       "       [ 3.25183992e-02],\n",
       "       [ 3.44271503e-01],\n",
       "       [ 2.59335725e-01],\n",
       "       [ 3.55541904e-02],\n",
       "       [ 3.04886691e-01],\n",
       "       [ 3.51208559e-01],\n",
       "       [ 2.84537787e-01],\n",
       "       [ 3.24677950e-02],\n",
       "       [ 1.88393602e-01],\n",
       "       [ 9.22606173e-02],\n",
       "       [ 3.22143740e-01],\n",
       "       [ 3.17782789e-01],\n",
       "       [ 9.13985832e-02],\n",
       "       [ 2.84698144e-01],\n",
       "       [ 2.59507586e-01],\n",
       "       [ 5.31563237e-02],\n",
       "       [-3.15176986e-03],\n",
       "       [ 3.08336916e-02],\n",
       "       [ 1.12776551e-03],\n",
       "       [ 1.72472187e-01],\n",
       "       [-1.88257511e-02],\n",
       "       [ 2.69967503e-01],\n",
       "       [-6.89677508e-02],\n",
       "       [ 3.32680022e-01],\n",
       "       [ 8.77556193e-02],\n",
       "       [ 3.18244610e-01],\n",
       "       [-4.01830501e-02],\n",
       "       [ 2.98502427e-01],\n",
       "       [ 2.85514500e-01],\n",
       "       [ 1.09381301e-01],\n",
       "       [ 2.87197504e-03],\n",
       "       [ 2.48370184e-02],\n",
       "       [ 4.48101309e-02],\n",
       "       [ 3.64652990e-01],\n",
       "       [ 4.47919958e-02],\n",
       "       [ 4.53045555e-02],\n",
       "       [ 3.18024405e-01],\n",
       "       [ 4.23458698e-02],\n",
       "       [ 3.10115433e-01],\n",
       "       [ 3.36987760e-01],\n",
       "       [ 1.65250435e-02],\n",
       "       [ 3.37235422e-01],\n",
       "       [ 5.17783167e-02],\n",
       "       [ 6.73110574e-03],\n",
       "       [ 5.47279450e-02],\n",
       "       [ 3.48975818e-01],\n",
       "       [ 5.91756090e-02],\n",
       "       [ 6.72605786e-02],\n",
       "       [ 1.30982826e-01],\n",
       "       [ 3.07944149e-01],\n",
       "       [ 3.08981482e-01],\n",
       "       [ 2.03546972e-02],\n",
       "       [ 7.09403758e-02],\n",
       "       [-4.31135658e-03],\n",
       "       [ 3.94854121e-02],\n",
       "       [ 1.03837061e-02],\n",
       "       [-1.69472106e-02],\n",
       "       [ 6.71791598e-02],\n",
       "       [ 8.41127191e-02],\n",
       "       [ 3.56414873e-01],\n",
       "       [ 8.51018553e-02],\n",
       "       [-1.46418445e-02],\n",
       "       [ 3.79140900e-01],\n",
       "       [-7.71156489e-02],\n",
       "       [-5.97012411e-02],\n",
       "       [ 6.13020299e-02],\n",
       "       [ 1.98161017e-01],\n",
       "       [ 1.00228086e-02],\n",
       "       [ 2.80811901e-02],\n",
       "       [ 3.36152053e-01],\n",
       "       [ 6.76966547e-02],\n",
       "       [ 1.15306759e-03],\n",
       "       [ 2.99549603e-02],\n",
       "       [ 3.05220456e-02],\n",
       "       [ 6.07422565e-02],\n",
       "       [ 4.11651811e-02],\n",
       "       [ 5.24065407e-02],\n",
       "       [ 9.40478422e-02],\n",
       "       [ 4.97237942e-02],\n",
       "       [-2.45155808e-03],\n",
       "       [ 2.89769710e-01],\n",
       "       [ 6.35874036e-02],\n",
       "       [ 2.43552574e-01],\n",
       "       [ 3.82275345e-01],\n",
       "       [-1.61613566e-02],\n",
       "       [-3.63778085e-02],\n",
       "       [ 2.60218797e-01],\n",
       "       [ 8.46146336e-02],\n",
       "       [ 9.64106218e-02],\n",
       "       [ 1.40288812e-01],\n",
       "       [ 3.53662371e-01],\n",
       "       [ 7.30919768e-02],\n",
       "       [ 6.44926832e-02],\n",
       "       [ 3.28004155e-01],\n",
       "       [ 4.19264326e-02],\n",
       "       [ 3.43195060e-01],\n",
       "       [ 6.67502230e-02],\n",
       "       [ 5.27466785e-02],\n",
       "       [ 3.02224884e-01],\n",
       "       [ 2.77017699e-01],\n",
       "       [-3.66926955e-02],\n",
       "       [ 3.20539827e-01],\n",
       "       [ 1.48937748e-02],\n",
       "       [ 7.16907065e-02],\n",
       "       [ 2.83765241e-02],\n",
       "       [ 3.21701765e-01],\n",
       "       [ 1.20786655e-01],\n",
       "       [ 3.06451848e-01],\n",
       "       [ 4.93037124e-02],\n",
       "       [ 2.09586006e-01],\n",
       "       [-3.82076663e-03],\n",
       "       [ 7.53270579e-02],\n",
       "       [ 1.29541711e-01]])"
      ]
     },
     "execution_count": 30,
     "metadata": {},
     "output_type": "execute_result"
    }
   ],
   "source": [
    "#Multiple Linear Regression\n",
    "#6 Fit multiple Linear Regression model to our Train set\n",
    "from sklearn.linear_model import LinearRegression\n",
    "#Create an object called regressor in the LinearRegression class...\n",
    "regr = LinearRegression()\n",
    "#Fit the linear regression model to the training set... We use the fit method\n",
    "#the arguments of the fit method will be training sets \n",
    "regr.fit(X_train,y_train)\n",
    "\n",
    "#7 Predicting the Test set results: \n",
    "y_pred= regr.predict(X_test)\n",
    "y_pred\n"
   ]
  },
  {
   "cell_type": "code",
   "execution_count": 32,
   "metadata": {},
   "outputs": [
    {
     "data": {
      "image/png": "[encoded data removed]",
      "text/plain": [
       "<Figure size 432x288 with 1 Axes>"
      ]
     },
     "metadata": {
      "needs_background": "light"
     },
     "output_type": "display_data"
    }
   ],
   "source": [
    "#6 obtaining plots \n",
    "plt.scatter(y_test, y_pred, color = 'black')\n",
    "plt.title('y_pred vs y')\n",
    "plt.xlabel('y')\n",
    "plt.ylabel('y_pred')\n",
    "plt.show()\n"
   ]
  },
  {
   "cell_type": "code",
   "execution_count": 35,
   "metadata": {},
   "outputs": [
    {
     "data": {
      "text/plain": [
       "0.6973929630440665"
      ]
     },
     "execution_count": 35,
     "metadata": {},
     "output_type": "execute_result"
    }
   ],
   "source": [
    "regr.score(X_test,y_test)"
   ]
  },
  {
   "cell_type": "code",
   "execution_count": null,
   "metadata": {},
   "outputs": [],
   "source": []
  },
  {
   "cell_type": "code",
   "execution_count": 36,
   "metadata": {},
   "outputs": [
    {
     "name": "stdout",
     "output_type": "stream",
     "text": [
      "                            OLS Regression Results                            \n",
      "==============================================================================\n",
      "Dep. Variable:                      y   R-squared:                       0.714\n",
      "Model:                            OLS   Adj. R-squared:                  0.712\n",
      "Method:                 Least Squares   F-statistic:                     368.7\n",
      "Date:                Sat, 17 Apr 2021   Prob (F-statistic):          9.25e-198\n",
      "Time:                        19:16:11   Log-Likelihood:                 753.90\n",
      "No. Observations:                 743   AIC:                            -1496.\n",
      "Df Residuals:                     737   BIC:                            -1468.\n",
      "Df Model:                           5                                         \n",
      "Covariance Type:            nonrobust                                         \n",
      "==============================================================================\n",
      "                 coef    std err          t      P>|t|      [0.025      0.975]\n",
      "------------------------------------------------------------------------------\n",
      "const          0.1319      0.003     40.722      0.000       0.126       0.138\n",
      "x1             0.0365      0.003     11.074      0.000       0.030       0.043\n",
      "x2             0.0096      0.000     37.312      0.000       0.009       0.010\n",
      "x3             0.0136      0.004      3.773      0.000       0.007       0.021\n",
      "x4            -0.1353      0.003    -40.122      0.000      -0.142      -0.129\n",
      "x5            -0.0097      0.003     -2.874      0.004      -0.016      -0.003\n",
      "==============================================================================\n",
      "Omnibus:                      104.965   Durbin-Watson:                   1.880\n",
      "Prob(Omnibus):                  0.000   Jarque-Bera (JB):              279.944\n",
      "Skew:                           0.727   Prob(JB):                     1.63e-61\n",
      "Kurtosis:                       5.632   Cond. No.                         65.7\n",
      "==============================================================================\n",
      "\n",
      "Warnings:\n",
      "[1] Standard Errors assume that the covariance matrix of the errors is correctly specified.\n"
     ]
    }
   ],
   "source": [
    "import statsmodels.api as sm\n",
    "X_train = sm.add_constant(X_train)\n",
    "model=sm.OLS(y_train,X_train).fit()\n",
    "predictions=model.predict(X_train)\n",
    "results=model.summary()\n",
    "print(results)"
   ]
  },
  {
   "cell_type": "code",
   "execution_count": null,
   "metadata": {},
   "outputs": [],
   "source": []
  },
  {
   "cell_type": "code",
   "execution_count": 10,
   "metadata": {},
   "outputs": [
    {
     "name": "stderr",
     "output_type": "stream",
     "text": [
      "C:\\Users\\shubh\\Anaconda3\\lib\\site-packages\\sklearn\\utils\\validation.py:578: DataConversionWarning: A column-vector y was passed when a 1d array was expected. Please change the shape of y to (n_samples, ), for example using ravel().\n",
      "  y = column_or_1d(y, warn=True)\n"
     ]
    },
    {
     "ename": "ValueError",
     "evalue": "Unknown label type: 'continuous'",
     "output_type": "error",
     "traceback": [
      "\u001b[1;31m---------------------------------------------------------------------------\u001b[0m",
      "\u001b[1;31mValueError\u001b[0m                                Traceback (most recent call last)",
      "\u001b[1;32m<ipython-input-10-4a4c0d0ab78f>\u001b[0m in \u001b[0;36m<module>\u001b[1;34m()\u001b[0m\n\u001b[0;32m     18\u001b[0m \u001b[1;33m\u001b[0m\u001b[0m\n\u001b[0;32m     19\u001b[0m \u001b[0mmodel\u001b[0m \u001b[1;33m=\u001b[0m \u001b[0mLogisticRegression\u001b[0m\u001b[1;33m(\u001b[0m\u001b[0msolver\u001b[0m\u001b[1;33m=\u001b[0m\u001b[1;34m'liblinear'\u001b[0m\u001b[1;33m,\u001b[0m\u001b[0mrandom_state\u001b[0m\u001b[1;33m=\u001b[0m\u001b[1;36m0\u001b[0m\u001b[1;33m)\u001b[0m\u001b[1;33m\u001b[0m\u001b[0m\n\u001b[1;32m---> 20\u001b[1;33m \u001b[0mmodel\u001b[0m\u001b[1;33m.\u001b[0m\u001b[0mfit\u001b[0m\u001b[1;33m(\u001b[0m\u001b[0mX_train\u001b[0m\u001b[1;33m,\u001b[0m \u001b[0my_train\u001b[0m\u001b[1;33m)\u001b[0m\u001b[1;33m\u001b[0m\u001b[0m\n\u001b[0m\u001b[0;32m     21\u001b[0m \u001b[1;33m\u001b[0m\u001b[0m\n\u001b[0;32m     22\u001b[0m \u001b[0my_pred\u001b[0m\u001b[1;33m=\u001b[0m \u001b[0mmodel\u001b[0m\u001b[1;33m.\u001b[0m\u001b[0mpredict\u001b[0m\u001b[1;33m(\u001b[0m\u001b[0mX_test\u001b[0m\u001b[1;33m)\u001b[0m\u001b[1;33m\u001b[0m\u001b[0m\n",
      "\u001b[1;32m~\\Anaconda3\\lib\\site-packages\\sklearn\\linear_model\\logistic.py\u001b[0m in \u001b[0;36mfit\u001b[1;34m(self, X, y, sample_weight)\u001b[0m\n\u001b[0;32m   1219\u001b[0m         X, y = check_X_y(X, y, accept_sparse='csr', dtype=_dtype,\n\u001b[0;32m   1220\u001b[0m                          order=\"C\")\n\u001b[1;32m-> 1221\u001b[1;33m         \u001b[0mcheck_classification_targets\u001b[0m\u001b[1;33m(\u001b[0m\u001b[0my\u001b[0m\u001b[1;33m)\u001b[0m\u001b[1;33m\u001b[0m\u001b[0m\n\u001b[0m\u001b[0;32m   1222\u001b[0m         \u001b[0mself\u001b[0m\u001b[1;33m.\u001b[0m\u001b[0mclasses_\u001b[0m \u001b[1;33m=\u001b[0m \u001b[0mnp\u001b[0m\u001b[1;33m.\u001b[0m\u001b[0munique\u001b[0m\u001b[1;33m(\u001b[0m\u001b[0my\u001b[0m\u001b[1;33m)\u001b[0m\u001b[1;33m\u001b[0m\u001b[0m\n\u001b[0;32m   1223\u001b[0m         \u001b[0mn_samples\u001b[0m\u001b[1;33m,\u001b[0m \u001b[0mn_features\u001b[0m \u001b[1;33m=\u001b[0m \u001b[0mX\u001b[0m\u001b[1;33m.\u001b[0m\u001b[0mshape\u001b[0m\u001b[1;33m\u001b[0m\u001b[0m\n",
      "\u001b[1;32m~\\Anaconda3\\lib\\site-packages\\sklearn\\utils\\multiclass.py\u001b[0m in \u001b[0;36mcheck_classification_targets\u001b[1;34m(y)\u001b[0m\n\u001b[0;32m    169\u001b[0m     if y_type not in ['binary', 'multiclass', 'multiclass-multioutput',\n\u001b[0;32m    170\u001b[0m                       'multilabel-indicator', 'multilabel-sequences']:\n\u001b[1;32m--> 171\u001b[1;33m         \u001b[1;32mraise\u001b[0m \u001b[0mValueError\u001b[0m\u001b[1;33m(\u001b[0m\u001b[1;34m\"Unknown label type: %r\"\u001b[0m \u001b[1;33m%\u001b[0m \u001b[0my_type\u001b[0m\u001b[1;33m)\u001b[0m\u001b[1;33m\u001b[0m\u001b[0m\n\u001b[0m\u001b[0;32m    172\u001b[0m \u001b[1;33m\u001b[0m\u001b[0m\n\u001b[0;32m    173\u001b[0m \u001b[1;33m\u001b[0m\u001b[0m\n",
      "\u001b[1;31mValueError\u001b[0m: Unknown label type: 'continuous'"
     ]
    }
   ],
   "source": [
    "#Logistic Regression\n",
    "import numpy as np\n",
    "import matplotlib.pyplot as plt\n",
    "import pandas as pd\n",
    "from sklearn.linear_model import LogisticRegression\n",
    "from sklearn.metrics import classification_report, confusion_matrix\n",
    "%matplotlib inline\n",
    "\n",
    "#2 Importing the dataset\n",
    "# dataset = pd.read_csv(r'C:\\Users\\shubh\\Desktop\\IITM\\Courses\\Sem 2\\ML in civil eng\\term paper\\CE6051- vehicular emission data set - Sheet12.csv')\n",
    "dataset = pd.read_csv(r'C:\\Users\\shubh\\Desktop\\IITM\\Courses\\Sem 2\\ML in civil eng\\term paper\\vehicularemission_modified3.csv')\n",
    "X = dataset.iloc[1:,0:5].values\n",
    "y = dataset.iloc[1:,7:8].values\n",
    "\n",
    "#3 selecting training dataset\n",
    "from sklearn.model_selection import train_test_split\n",
    "X_train, X_test, y_train, y_test = train_test_split(X, y, test_size = 0.2, random_state=0)\n",
    "\n",
    "model = LogisticRegression(solver='liblinear',random_state=0)\n",
    "model.fit(X_train, y_train)\n",
    "\n",
    "y_pred= model.predict(X_test)\n",
    "y_pred\n",
    "\n"
   ]
  },
  {
   "cell_type": "code",
   "execution_count": 7,
   "metadata": {},
   "outputs": [
    {
     "ename": "NameError",
     "evalue": "name 'y_pred' is not defined",
     "output_type": "error",
     "traceback": [
      "\u001b[1;31m---------------------------------------------------------------------------\u001b[0m",
      "\u001b[1;31mNameError\u001b[0m                                 Traceback (most recent call last)",
      "\u001b[1;32m<ipython-input-7-da8c3b6dd9fa>\u001b[0m in \u001b[0;36m<module>\u001b[1;34m()\u001b[0m\n\u001b[0;32m      1\u001b[0m \u001b[1;31m#6 obtaining plots\u001b[0m\u001b[1;33m\u001b[0m\u001b[1;33m\u001b[0m\u001b[0m\n\u001b[1;32m----> 2\u001b[1;33m \u001b[0mplt\u001b[0m\u001b[1;33m.\u001b[0m\u001b[0mscatter\u001b[0m\u001b[1;33m(\u001b[0m\u001b[0my_test\u001b[0m\u001b[1;33m,\u001b[0m \u001b[0my_pred\u001b[0m\u001b[1;33m,\u001b[0m \u001b[0mcolor\u001b[0m \u001b[1;33m=\u001b[0m \u001b[1;34m'black'\u001b[0m\u001b[1;33m)\u001b[0m\u001b[1;33m\u001b[0m\u001b[0m\n\u001b[0m\u001b[0;32m      3\u001b[0m \u001b[0mplt\u001b[0m\u001b[1;33m.\u001b[0m\u001b[0mtitle\u001b[0m\u001b[1;33m(\u001b[0m\u001b[1;34m'y_pred vs y_test'\u001b[0m\u001b[1;33m)\u001b[0m\u001b[1;33m\u001b[0m\u001b[0m\n\u001b[0;32m      4\u001b[0m \u001b[0mplt\u001b[0m\u001b[1;33m.\u001b[0m\u001b[0mxlabel\u001b[0m\u001b[1;33m(\u001b[0m\u001b[1;34m'y_test'\u001b[0m\u001b[1;33m)\u001b[0m\u001b[1;33m\u001b[0m\u001b[0m\n\u001b[0;32m      5\u001b[0m \u001b[0mplt\u001b[0m\u001b[1;33m.\u001b[0m\u001b[0mylabel\u001b[0m\u001b[1;33m(\u001b[0m\u001b[1;34m'y_pred'\u001b[0m\u001b[1;33m)\u001b[0m\u001b[1;33m\u001b[0m\u001b[0m\n",
      "\u001b[1;31mNameError\u001b[0m: name 'y_pred' is not defined"
     ]
    }
   ],
   "source": [
    "#6 obtaining plots \n",
    "plt.scatter(y_test, y_pred, color = 'black')\n",
    "plt.title('y_pred vs y_test')\n",
    "plt.xlabel('y_test')\n",
    "plt.ylabel('y_pred')\n",
    "plt.show()\n"
   ]
  },
  {
   "cell_type": "code",
   "execution_count": null,
   "metadata": {},
   "outputs": [],
   "source": []
  },
  {
   "cell_type": "code",
   "execution_count": null,
   "metadata": {},
   "outputs": [],
   "source": []
  }
 ],
 "metadata": {
  "kernelspec": {
   "display_name": "Python 3",
   "language": "python",
   "name": "python3"
  },
  "language_info": {
   "codemirror_mode": {
    "name": "ipython",
    "version": 3
   },
   "file_extension": ".py",
   "mimetype": "text/x-python",
   "name": "python",
   "nbconvert_exporter": "python",
   "pygments_lexer": "ipython3",
   "version": "3.7.0"
  }
 },
 "nbformat": 4,
 "nbformat_minor": 2
}
